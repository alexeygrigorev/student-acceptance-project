{
 "cells": [
  {
   "cell_type": "code",
   "execution_count": 1,
   "id": "c29c45e0",
   "metadata": {},
   "outputs": [],
   "source": [
    "import pandas as pd"
   ]
  },
  {
   "cell_type": "markdown",
   "id": "6244c5c2",
   "metadata": {},
   "source": [
    "## Loading the data"
   ]
  },
  {
   "cell_type": "code",
   "execution_count": 2,
   "id": "f0d1fe1d",
   "metadata": {},
   "outputs": [],
   "source": [
    "df = pd.read_csv('../data/data.csv')"
   ]
  },
  {
   "cell_type": "code",
   "execution_count": 5,
   "id": "95cc45f3",
   "metadata": {},
   "outputs": [
    {
     "data": {
      "text/html": [
       "<div>\n",
       "<style scoped>\n",
       "    .dataframe tbody tr th:only-of-type {\n",
       "        vertical-align: middle;\n",
       "    }\n",
       "\n",
       "    .dataframe tbody tr th {\n",
       "        vertical-align: top;\n",
       "    }\n",
       "\n",
       "    .dataframe thead th {\n",
       "        text-align: right;\n",
       "    }\n",
       "</style>\n",
       "<table border=\"1\" class=\"dataframe\">\n",
       "  <thead>\n",
       "    <tr style=\"text-align: right;\">\n",
       "      <th></th>\n",
       "      <th>0</th>\n",
       "      <th>1</th>\n",
       "      <th>2</th>\n",
       "      <th>3</th>\n",
       "      <th>4</th>\n",
       "    </tr>\n",
       "  </thead>\n",
       "  <tbody>\n",
       "    <tr>\n",
       "      <th>type_school</th>\n",
       "      <td>Academic</td>\n",
       "      <td>Academic</td>\n",
       "      <td>Academic</td>\n",
       "      <td>Vocational</td>\n",
       "      <td>Academic</td>\n",
       "    </tr>\n",
       "    <tr>\n",
       "      <th>school_accreditation</th>\n",
       "      <td>A</td>\n",
       "      <td>A</td>\n",
       "      <td>B</td>\n",
       "      <td>B</td>\n",
       "      <td>A</td>\n",
       "    </tr>\n",
       "    <tr>\n",
       "      <th>gender</th>\n",
       "      <td>Male</td>\n",
       "      <td>Male</td>\n",
       "      <td>Female</td>\n",
       "      <td>Male</td>\n",
       "      <td>Female</td>\n",
       "    </tr>\n",
       "    <tr>\n",
       "      <th>interest</th>\n",
       "      <td>Less Interested</td>\n",
       "      <td>Less Interested</td>\n",
       "      <td>Very Interested</td>\n",
       "      <td>Very Interested</td>\n",
       "      <td>Very Interested</td>\n",
       "    </tr>\n",
       "    <tr>\n",
       "      <th>residence</th>\n",
       "      <td>Urban</td>\n",
       "      <td>Urban</td>\n",
       "      <td>Urban</td>\n",
       "      <td>Rural</td>\n",
       "      <td>Urban</td>\n",
       "    </tr>\n",
       "    <tr>\n",
       "      <th>parent_age</th>\n",
       "      <td>56</td>\n",
       "      <td>57</td>\n",
       "      <td>50</td>\n",
       "      <td>49</td>\n",
       "      <td>57</td>\n",
       "    </tr>\n",
       "    <tr>\n",
       "      <th>parent_salary</th>\n",
       "      <td>6950000</td>\n",
       "      <td>4410000</td>\n",
       "      <td>6500000</td>\n",
       "      <td>6600000</td>\n",
       "      <td>5250000</td>\n",
       "    </tr>\n",
       "    <tr>\n",
       "      <th>house_area</th>\n",
       "      <td>83.0</td>\n",
       "      <td>76.8</td>\n",
       "      <td>80.6</td>\n",
       "      <td>78.2</td>\n",
       "      <td>75.1</td>\n",
       "    </tr>\n",
       "    <tr>\n",
       "      <th>average_grades</th>\n",
       "      <td>84.09</td>\n",
       "      <td>86.91</td>\n",
       "      <td>87.43</td>\n",
       "      <td>82.12</td>\n",
       "      <td>86.79</td>\n",
       "    </tr>\n",
       "    <tr>\n",
       "      <th>parent_was_in_college</th>\n",
       "      <td>False</td>\n",
       "      <td>False</td>\n",
       "      <td>False</td>\n",
       "      <td>True</td>\n",
       "      <td>False</td>\n",
       "    </tr>\n",
       "    <tr>\n",
       "      <th>in_college</th>\n",
       "      <td>True</td>\n",
       "      <td>True</td>\n",
       "      <td>True</td>\n",
       "      <td>True</td>\n",
       "      <td>False</td>\n",
       "    </tr>\n",
       "  </tbody>\n",
       "</table>\n",
       "</div>"
      ],
      "text/plain": [
       "                                     0                1                2  \\\n",
       "type_school                   Academic         Academic         Academic   \n",
       "school_accreditation                 A                A                B   \n",
       "gender                            Male             Male           Female   \n",
       "interest               Less Interested  Less Interested  Very Interested   \n",
       "residence                        Urban            Urban            Urban   \n",
       "parent_age                          56               57               50   \n",
       "parent_salary                  6950000          4410000          6500000   \n",
       "house_area                        83.0             76.8             80.6   \n",
       "average_grades                   84.09            86.91            87.43   \n",
       "parent_was_in_college            False            False            False   \n",
       "in_college                        True             True             True   \n",
       "\n",
       "                                     3                4  \n",
       "type_school                 Vocational         Academic  \n",
       "school_accreditation                 B                A  \n",
       "gender                            Male           Female  \n",
       "interest               Very Interested  Very Interested  \n",
       "residence                        Rural            Urban  \n",
       "parent_age                          49               57  \n",
       "parent_salary                  6600000          5250000  \n",
       "house_area                        78.2             75.1  \n",
       "average_grades                   82.12            86.79  \n",
       "parent_was_in_college             True            False  \n",
       "in_college                        True            False  "
      ]
     },
     "execution_count": 5,
     "metadata": {},
     "output_type": "execute_result"
    }
   ],
   "source": [
    "df.head().T"
   ]
  },
  {
   "cell_type": "code",
   "execution_count": 6,
   "id": "6049857a",
   "metadata": {},
   "outputs": [
    {
     "data": {
      "text/plain": [
       "1000"
      ]
     },
     "execution_count": 6,
     "metadata": {},
     "output_type": "execute_result"
    }
   ],
   "source": [
    "len(df)"
   ]
  },
  {
   "cell_type": "code",
   "execution_count": 8,
   "id": "2a8feb3e",
   "metadata": {},
   "outputs": [
    {
     "data": {
      "text/plain": [
       "type_school              0\n",
       "school_accreditation     0\n",
       "gender                   0\n",
       "interest                 0\n",
       "residence                0\n",
       "parent_age               0\n",
       "parent_salary            0\n",
       "house_area               0\n",
       "average_grades           0\n",
       "parent_was_in_college    0\n",
       "in_college               0\n",
       "dtype: int64"
      ]
     },
     "execution_count": 8,
     "metadata": {},
     "output_type": "execute_result"
    }
   ],
   "source": [
    "df.isnull().sum()"
   ]
  },
  {
   "cell_type": "code",
   "execution_count": 9,
   "id": "3ce23f96",
   "metadata": {},
   "outputs": [],
   "source": [
    "from sklearn.model_selection import train_test_split"
   ]
  },
  {
   "cell_type": "code",
   "execution_count": 68,
   "id": "8684f0e5",
   "metadata": {},
   "outputs": [],
   "source": [
    "df_train_all, df_test = train_test_split(df, test_size=0.2, random_state=1)"
   ]
  },
  {
   "cell_type": "markdown",
   "id": "f2c12940",
   "metadata": {},
   "source": [
    "### EDA"
   ]
  },
  {
   "cell_type": "code",
   "execution_count": 69,
   "id": "123a6acf",
   "metadata": {},
   "outputs": [
    {
     "data": {
      "text/plain": [
       "True     405\n",
       "False    395\n",
       "Name: in_college, dtype: int64"
      ]
     },
     "execution_count": 69,
     "metadata": {},
     "output_type": "execute_result"
    }
   ],
   "source": [
    "df_train_all.in_college.value_counts()"
   ]
  },
  {
   "cell_type": "code",
   "execution_count": 70,
   "id": "0592ab7a",
   "metadata": {},
   "outputs": [],
   "source": [
    "y_train_all = df_train_all.in_college.astype(int).values\n",
    "y_test = df_test.in_college.astype(int).values"
   ]
  },
  {
   "cell_type": "code",
   "execution_count": 71,
   "id": "5796a849",
   "metadata": {},
   "outputs": [
    {
     "data": {
      "text/plain": [
       "0.50625"
      ]
     },
     "execution_count": 71,
     "metadata": {},
     "output_type": "execute_result"
    }
   ],
   "source": [
    "y_train_all.mean()"
   ]
  },
  {
   "cell_type": "code",
   "execution_count": 72,
   "id": "bd9c8f56",
   "metadata": {},
   "outputs": [],
   "source": [
    "categorical = [\n",
    "    'type_school', 'school_accreditation', 'gender', 'interest', 'residence',\n",
    "    'parent_was_in_college'\n",
    "]"
   ]
  },
  {
   "cell_type": "code",
   "execution_count": 73,
   "id": "1ab99df3",
   "metadata": {},
   "outputs": [
    {
     "data": {
      "text/html": [
       "<div>\n",
       "<style scoped>\n",
       "    .dataframe tbody tr th:only-of-type {\n",
       "        vertical-align: middle;\n",
       "    }\n",
       "\n",
       "    .dataframe tbody tr th {\n",
       "        vertical-align: top;\n",
       "    }\n",
       "\n",
       "    .dataframe thead th {\n",
       "        text-align: right;\n",
       "    }\n",
       "</style>\n",
       "<table border=\"1\" class=\"dataframe\">\n",
       "  <thead>\n",
       "    <tr style=\"text-align: right;\">\n",
       "      <th></th>\n",
       "      <th>type_school</th>\n",
       "      <th>school_accreditation</th>\n",
       "      <th>gender</th>\n",
       "      <th>interest</th>\n",
       "      <th>residence</th>\n",
       "      <th>parent_was_in_college</th>\n",
       "    </tr>\n",
       "  </thead>\n",
       "  <tbody>\n",
       "    <tr>\n",
       "      <th>count</th>\n",
       "      <td>800</td>\n",
       "      <td>800</td>\n",
       "      <td>800</td>\n",
       "      <td>800</td>\n",
       "      <td>800</td>\n",
       "      <td>800</td>\n",
       "    </tr>\n",
       "    <tr>\n",
       "      <th>unique</th>\n",
       "      <td>2</td>\n",
       "      <td>2</td>\n",
       "      <td>2</td>\n",
       "      <td>5</td>\n",
       "      <td>2</td>\n",
       "      <td>2</td>\n",
       "    </tr>\n",
       "    <tr>\n",
       "      <th>top</th>\n",
       "      <td>Academic</td>\n",
       "      <td>B</td>\n",
       "      <td>Male</td>\n",
       "      <td>Very Interested</td>\n",
       "      <td>Urban</td>\n",
       "      <td>True</td>\n",
       "    </tr>\n",
       "    <tr>\n",
       "      <th>freq</th>\n",
       "      <td>488</td>\n",
       "      <td>417</td>\n",
       "      <td>401</td>\n",
       "      <td>262</td>\n",
       "      <td>436</td>\n",
       "      <td>416</td>\n",
       "    </tr>\n",
       "  </tbody>\n",
       "</table>\n",
       "</div>"
      ],
      "text/plain": [
       "       type_school school_accreditation gender         interest residence  \\\n",
       "count          800                  800    800              800       800   \n",
       "unique           2                    2      2                5         2   \n",
       "top       Academic                    B   Male  Very Interested     Urban   \n",
       "freq           488                  417    401              262       436   \n",
       "\n",
       "       parent_was_in_college  \n",
       "count                    800  \n",
       "unique                     2  \n",
       "top                     True  \n",
       "freq                     416  "
      ]
     },
     "execution_count": 73,
     "metadata": {},
     "output_type": "execute_result"
    }
   ],
   "source": [
    "df_train_all[categorical].describe()"
   ]
  },
  {
   "cell_type": "code",
   "execution_count": 74,
   "id": "cdaf3ee0",
   "metadata": {},
   "outputs": [],
   "source": [
    "numerical = ['parent_age', 'parent_salary', 'house_area', 'average_grades']"
   ]
  },
  {
   "cell_type": "code",
   "execution_count": 75,
   "id": "43fbc1d4",
   "metadata": {},
   "outputs": [
    {
     "data": {
      "text/html": [
       "<div>\n",
       "<style scoped>\n",
       "    .dataframe tbody tr th:only-of-type {\n",
       "        vertical-align: middle;\n",
       "    }\n",
       "\n",
       "    .dataframe tbody tr th {\n",
       "        vertical-align: top;\n",
       "    }\n",
       "\n",
       "    .dataframe thead th {\n",
       "        text-align: right;\n",
       "    }\n",
       "</style>\n",
       "<table border=\"1\" class=\"dataframe\">\n",
       "  <thead>\n",
       "    <tr style=\"text-align: right;\">\n",
       "      <th></th>\n",
       "      <th>parent_age</th>\n",
       "      <th>parent_salary</th>\n",
       "      <th>house_area</th>\n",
       "      <th>average_grades</th>\n",
       "    </tr>\n",
       "  </thead>\n",
       "  <tbody>\n",
       "    <tr>\n",
       "      <th>count</th>\n",
       "      <td>800.00</td>\n",
       "      <td>800.00</td>\n",
       "      <td>800.00</td>\n",
       "      <td>800.00</td>\n",
       "    </tr>\n",
       "    <tr>\n",
       "      <th>mean</th>\n",
       "      <td>52.24</td>\n",
       "      <td>5372650.00</td>\n",
       "      <td>74.43</td>\n",
       "      <td>86.05</td>\n",
       "    </tr>\n",
       "    <tr>\n",
       "      <th>std</th>\n",
       "      <td>3.47</td>\n",
       "      <td>1387610.92</td>\n",
       "      <td>14.95</td>\n",
       "      <td>3.34</td>\n",
       "    </tr>\n",
       "    <tr>\n",
       "      <th>min</th>\n",
       "      <td>40.00</td>\n",
       "      <td>1000000.00</td>\n",
       "      <td>20.00</td>\n",
       "      <td>75.00</td>\n",
       "    </tr>\n",
       "    <tr>\n",
       "      <th>25%</th>\n",
       "      <td>50.00</td>\n",
       "      <td>4367500.00</td>\n",
       "      <td>64.60</td>\n",
       "      <td>83.72</td>\n",
       "    </tr>\n",
       "    <tr>\n",
       "      <th>50%</th>\n",
       "      <td>52.00</td>\n",
       "      <td>5430000.00</td>\n",
       "      <td>75.30</td>\n",
       "      <td>85.50</td>\n",
       "    </tr>\n",
       "    <tr>\n",
       "      <th>75%</th>\n",
       "      <td>54.00</td>\n",
       "      <td>6382500.00</td>\n",
       "      <td>84.60</td>\n",
       "      <td>88.19</td>\n",
       "    </tr>\n",
       "    <tr>\n",
       "      <th>max</th>\n",
       "      <td>65.00</td>\n",
       "      <td>10000000.00</td>\n",
       "      <td>116.30</td>\n",
       "      <td>98.00</td>\n",
       "    </tr>\n",
       "  </tbody>\n",
       "</table>\n",
       "</div>"
      ],
      "text/plain": [
       "       parent_age  parent_salary  house_area  average_grades\n",
       "count      800.00         800.00      800.00          800.00\n",
       "mean        52.24     5372650.00       74.43           86.05\n",
       "std          3.47     1387610.92       14.95            3.34\n",
       "min         40.00     1000000.00       20.00           75.00\n",
       "25%         50.00     4367500.00       64.60           83.72\n",
       "50%         52.00     5430000.00       75.30           85.50\n",
       "75%         54.00     6382500.00       84.60           88.19\n",
       "max         65.00    10000000.00      116.30           98.00"
      ]
     },
     "execution_count": 75,
     "metadata": {},
     "output_type": "execute_result"
    }
   ],
   "source": [
    "df_train_all[numerical].describe().round(2)"
   ]
  },
  {
   "cell_type": "markdown",
   "id": "77676cad",
   "metadata": {},
   "source": [
    "Now let's see which features are important"
   ]
  },
  {
   "cell_type": "code",
   "execution_count": 76,
   "id": "ada834aa",
   "metadata": {},
   "outputs": [],
   "source": [
    "from sklearn.metrics import mutual_info_score"
   ]
  },
  {
   "cell_type": "code",
   "execution_count": 77,
   "id": "6dfeef75",
   "metadata": {
    "scrolled": true
   },
   "outputs": [
    {
     "data": {
      "text/plain": [
       "interest                 0.039574\n",
       "school_accreditation     0.001280\n",
       "parent_was_in_college    0.001107\n",
       "residence                0.000351\n",
       "gender                   0.000313\n",
       "type_school              0.000205\n",
       "dtype: float64"
      ]
     },
     "execution_count": 77,
     "metadata": {},
     "output_type": "execute_result"
    }
   ],
   "source": [
    "def mutual_info_churn_score(series):\n",
    "    return mutual_info_score(series, df_train_all.in_college)\n",
    "\n",
    "mi = df_train_all[categorical].apply(mutual_info_churn_score)\n",
    "mi.sort_values(ascending=False)"
   ]
  },
  {
   "cell_type": "markdown",
   "id": "c7b686dd",
   "metadata": {},
   "source": [
    "It looks like the main categorical factor is the interest of the student"
   ]
  },
  {
   "cell_type": "code",
   "execution_count": 78,
   "id": "0d0ace0f",
   "metadata": {},
   "outputs": [
    {
     "data": {
      "text/plain": [
       "parent_age        0.050370\n",
       "parent_salary     0.481177\n",
       "house_area        0.443250\n",
       "average_grades    0.512619\n",
       "dtype: float64"
      ]
     },
     "execution_count": 78,
     "metadata": {},
     "output_type": "execute_result"
    }
   ],
   "source": [
    "df_train_all[numerical].corrwith(df_train_all.in_college).abs()"
   ]
  },
  {
   "cell_type": "markdown",
   "id": "c5ad834a",
   "metadata": {},
   "source": [
    "Parent's salary and house area are probably correlated, and grades seem to be the most contributing factor"
   ]
  },
  {
   "cell_type": "code",
   "execution_count": 79,
   "id": "5438d90b",
   "metadata": {},
   "outputs": [
    {
     "data": {
      "text/plain": [
       "parent_salary    0.124039\n",
       "dtype: float64"
      ]
     },
     "execution_count": 79,
     "metadata": {},
     "output_type": "execute_result"
    }
   ],
   "source": [
    "df_train_all[['parent_salary']].corrwith(df_train_all.house_area)"
   ]
  },
  {
   "cell_type": "markdown",
   "id": "43516d12",
   "metadata": {},
   "source": [
    "It's actually not very correlated - so both should be good features.\n",
    "\n",
    "Let's train our first model. We'll use all features and then only a subset "
   ]
  },
  {
   "cell_type": "markdown",
   "id": "be15be32",
   "metadata": {},
   "source": [
    "## Training model"
   ]
  },
  {
   "cell_type": "code",
   "execution_count": 81,
   "id": "2a7ccaf5",
   "metadata": {},
   "outputs": [],
   "source": [
    "df_train, df_val = train_test_split(df_train_all, test_size=0.25, random_state=1)"
   ]
  },
  {
   "cell_type": "code",
   "execution_count": 84,
   "id": "003387fb",
   "metadata": {},
   "outputs": [],
   "source": [
    "y_train = df_train.in_college.astype(int).values\n",
    "y_val = df_val.in_college.astype(int).values"
   ]
  },
  {
   "cell_type": "code",
   "execution_count": 85,
   "id": "aa793633",
   "metadata": {},
   "outputs": [],
   "source": [
    "from sklearn.feature_extraction import DictVectorizer"
   ]
  },
  {
   "cell_type": "code",
   "execution_count": 87,
   "id": "123942df",
   "metadata": {},
   "outputs": [],
   "source": [
    "train_dicts = df_train[categorical + numerical].to_dict(orient='records')"
   ]
  },
  {
   "cell_type": "code",
   "execution_count": 88,
   "id": "d5fdbce0",
   "metadata": {},
   "outputs": [],
   "source": [
    "dv = DictVectorizer()\n",
    "X_train = dv.fit_transform(train_dicts)"
   ]
  },
  {
   "cell_type": "code",
   "execution_count": 89,
   "id": "8f966a1b",
   "metadata": {},
   "outputs": [],
   "source": [
    "from sklearn.linear_model import LogisticRegression"
   ]
  },
  {
   "cell_type": "code",
   "execution_count": 90,
   "id": "4f965737",
   "metadata": {},
   "outputs": [
    {
     "data": {
      "text/html": [
       "<style>#sk-container-id-1 {color: black;background-color: white;}#sk-container-id-1 pre{padding: 0;}#sk-container-id-1 div.sk-toggleable {background-color: white;}#sk-container-id-1 label.sk-toggleable__label {cursor: pointer;display: block;width: 100%;margin-bottom: 0;padding: 0.3em;box-sizing: border-box;text-align: center;}#sk-container-id-1 label.sk-toggleable__label-arrow:before {content: \"▸\";float: left;margin-right: 0.25em;color: #696969;}#sk-container-id-1 label.sk-toggleable__label-arrow:hover:before {color: black;}#sk-container-id-1 div.sk-estimator:hover label.sk-toggleable__label-arrow:before {color: black;}#sk-container-id-1 div.sk-toggleable__content {max-height: 0;max-width: 0;overflow: hidden;text-align: left;background-color: #f0f8ff;}#sk-container-id-1 div.sk-toggleable__content pre {margin: 0.2em;color: black;border-radius: 0.25em;background-color: #f0f8ff;}#sk-container-id-1 input.sk-toggleable__control:checked~div.sk-toggleable__content {max-height: 200px;max-width: 100%;overflow: auto;}#sk-container-id-1 input.sk-toggleable__control:checked~label.sk-toggleable__label-arrow:before {content: \"▾\";}#sk-container-id-1 div.sk-estimator input.sk-toggleable__control:checked~label.sk-toggleable__label {background-color: #d4ebff;}#sk-container-id-1 div.sk-label input.sk-toggleable__control:checked~label.sk-toggleable__label {background-color: #d4ebff;}#sk-container-id-1 input.sk-hidden--visually {border: 0;clip: rect(1px 1px 1px 1px);clip: rect(1px, 1px, 1px, 1px);height: 1px;margin: -1px;overflow: hidden;padding: 0;position: absolute;width: 1px;}#sk-container-id-1 div.sk-estimator {font-family: monospace;background-color: #f0f8ff;border: 1px dotted black;border-radius: 0.25em;box-sizing: border-box;margin-bottom: 0.5em;}#sk-container-id-1 div.sk-estimator:hover {background-color: #d4ebff;}#sk-container-id-1 div.sk-parallel-item::after {content: \"\";width: 100%;border-bottom: 1px solid gray;flex-grow: 1;}#sk-container-id-1 div.sk-label:hover label.sk-toggleable__label {background-color: #d4ebff;}#sk-container-id-1 div.sk-serial::before {content: \"\";position: absolute;border-left: 1px solid gray;box-sizing: border-box;top: 0;bottom: 0;left: 50%;z-index: 0;}#sk-container-id-1 div.sk-serial {display: flex;flex-direction: column;align-items: center;background-color: white;padding-right: 0.2em;padding-left: 0.2em;position: relative;}#sk-container-id-1 div.sk-item {position: relative;z-index: 1;}#sk-container-id-1 div.sk-parallel {display: flex;align-items: stretch;justify-content: center;background-color: white;position: relative;}#sk-container-id-1 div.sk-item::before, #sk-container-id-1 div.sk-parallel-item::before {content: \"\";position: absolute;border-left: 1px solid gray;box-sizing: border-box;top: 0;bottom: 0;left: 50%;z-index: -1;}#sk-container-id-1 div.sk-parallel-item {display: flex;flex-direction: column;z-index: 1;position: relative;background-color: white;}#sk-container-id-1 div.sk-parallel-item:first-child::after {align-self: flex-end;width: 50%;}#sk-container-id-1 div.sk-parallel-item:last-child::after {align-self: flex-start;width: 50%;}#sk-container-id-1 div.sk-parallel-item:only-child::after {width: 0;}#sk-container-id-1 div.sk-dashed-wrapped {border: 1px dashed gray;margin: 0 0.4em 0.5em 0.4em;box-sizing: border-box;padding-bottom: 0.4em;background-color: white;}#sk-container-id-1 div.sk-label label {font-family: monospace;font-weight: bold;display: inline-block;line-height: 1.2em;}#sk-container-id-1 div.sk-label-container {text-align: center;}#sk-container-id-1 div.sk-container {/* jupyter's `normalize.less` sets `[hidden] { display: none; }` but bootstrap.min.css set `[hidden] { display: none !important; }` so we also need the `!important` here to be able to override the default hidden behavior on the sphinx rendered scikit-learn.org. See: https://github.com/scikit-learn/scikit-learn/issues/21755 */display: inline-block !important;position: relative;}#sk-container-id-1 div.sk-text-repr-fallback {display: none;}</style><div id=\"sk-container-id-1\" class=\"sk-top-container\"><div class=\"sk-text-repr-fallback\"><pre>LogisticRegression()</pre><b>In a Jupyter environment, please rerun this cell to show the HTML representation or trust the notebook. <br />On GitHub, the HTML representation is unable to render, please try loading this page with nbviewer.org.</b></div><div class=\"sk-container\" hidden><div class=\"sk-item\"><div class=\"sk-estimator sk-toggleable\"><input class=\"sk-toggleable__control sk-hidden--visually\" id=\"sk-estimator-id-1\" type=\"checkbox\" checked><label for=\"sk-estimator-id-1\" class=\"sk-toggleable__label sk-toggleable__label-arrow\">LogisticRegression</label><div class=\"sk-toggleable__content\"><pre>LogisticRegression()</pre></div></div></div></div></div>"
      ],
      "text/plain": [
       "LogisticRegression()"
      ]
     },
     "execution_count": 90,
     "metadata": {},
     "output_type": "execute_result"
    }
   ],
   "source": [
    "lr = LogisticRegression()\n",
    "lr.fit(X_train, y_train)"
   ]
  },
  {
   "cell_type": "code",
   "execution_count": 91,
   "id": "18cc5063",
   "metadata": {},
   "outputs": [],
   "source": [
    "val_dicts = df_val[categorical + numerical].to_dict(orient='records')\n",
    "X_val = dv.transform(val_dicts)"
   ]
  },
  {
   "cell_type": "code",
   "execution_count": 95,
   "id": "22460844",
   "metadata": {},
   "outputs": [],
   "source": [
    "y_pred = lr.predict_proba(X_val)[:, 1]"
   ]
  },
  {
   "cell_type": "code",
   "execution_count": 96,
   "id": "332b3f38",
   "metadata": {},
   "outputs": [],
   "source": [
    "from sklearn.metrics import roc_auc_score"
   ]
  },
  {
   "cell_type": "code",
   "execution_count": 97,
   "id": "c8f22a28",
   "metadata": {},
   "outputs": [
    {
     "data": {
      "text/plain": [
       "0.7903161264505801"
      ]
     },
     "execution_count": 97,
     "metadata": {},
     "output_type": "execute_result"
    }
   ],
   "source": [
    "roc_auc_score(y_val, y_pred)"
   ]
  },
  {
   "cell_type": "markdown",
   "id": "53485788",
   "metadata": {},
   "source": [
    "AUC is almost 80% - not bad!"
   ]
  },
  {
   "cell_type": "code",
   "execution_count": null,
   "id": "1e4b16c2",
   "metadata": {},
   "outputs": [],
   "source": []
  }
 ],
 "metadata": {
  "kernelspec": {
   "display_name": "py39-student-acceptance-project",
   "language": "python",
   "name": "py39-student-acceptance-project"
  },
  "language_info": {
   "codemirror_mode": {
    "name": "ipython",
    "version": 3
   },
   "file_extension": ".py",
   "mimetype": "text/x-python",
   "name": "python",
   "nbconvert_exporter": "python",
   "pygments_lexer": "ipython3",
   "version": "3.9.5"
  }
 },
 "nbformat": 4,
 "nbformat_minor": 5
}
